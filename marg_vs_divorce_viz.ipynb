{
 "cells": [
  {
   "cell_type": "code",
   "execution_count": 3,
   "id": "f07f65e4-7dda-468a-8ea7-01f741589a27",
   "metadata": {},
   "outputs": [
    {
     "ename": "ERROR",
     "evalue": "Error in parse(text = x, srcfile = src): attempt to use zero-length variable name\n",
     "output_type": "error",
     "traceback": [
      "Error in parse(text = x, srcfile = src): attempt to use zero-length variable name\nTraceback:\n"
     ]
    }
   ],
   "source": [
    "library(tidyverse)\n",
    "library(cowplot)\n",
    "library(scales)\n",
    "\n",
    "# Data sourced from the Spurious Correlations website (http://www.tylervigen.com/spurious-correlations)\n",
    "should_have_bought_butter <- tibble(margarine_consumption = c(8.2, 7, 6.5, 5.3, 5.2,\n",
    "                                                             4, 4.6, 4.5, 4.2, 3.7),\n",
    "                                   maine_divorce_rate = c(5, 4.7, 4.6, 4.4, 4.3,\n",
    "                                                         4.1, 4.2, 4.2, 4.2, 4.1),\n",
    "                                   year = c(2000, 2001, 2002, 2003, 2004,\n",
    "                                           2005, 2006, 2007, 2008, 2009))\n",
    "\n",
    "marg_vs_time <- should_have_bought_butter |> \n",
    "    ggplot(aes(x = year, y = margarine_consumption)) +\n",
    "        geom_line(colour = \"Blue\") + \n",
    "        labs(x = \"\", y = \"Margarine consumption \\n(lbs per capita)\", \n",
    "             title = \"Divorce rate in Maine correlates with margarine consumption\") +\n",
    "        theme_bw() +\n",
    "        theme(axis.ticks.x = element_blank(),\n",
    "        axis.text.x = element_blank()) +\n",
    "        theme(text = element_text(size = 20)) +\n",
    "        scale_y_continuous(labels = number_format(accuracy = 0.01))\n",
    "\n",
    "\n",
    "divorce_rate_vs_time <- should_have_bought_butter |> \n",
    "    ggplot(aes(x = year, y = maine_divorce_rate)) +\n",
    "        geom_line(colour = \"Red\") + \n",
    "        labs(x = \"Year\", y = \"Divorce rate in Maine \\n(per 1000)\") +\n",
    "        scale_x_continuous(breaks = 0:2100) +\n",
    "        theme_bw() +\n",
    "        theme(text = element_text(size = 20)) \n",
    "\n",
    "options(repr.plot.width = 11, repr.plot.height = 8)\n",
    "plot_grid(marg_vs_time, divorce_rate_vs_time, ncol = 1)\n",
    "```"
   ]
  },
  {
   "cell_type": "code",
   "execution_count": null,
   "id": "7c8bc5c9-faf1-4b02-bf51-4ba82434fb5e",
   "metadata": {},
   "outputs": [],
   "source": []
  }
 ],
 "metadata": {
  "kernelspec": {
   "display_name": "R",
   "language": "R",
   "name": "ir"
  },
  "language_info": {
   "codemirror_mode": "r",
   "file_extension": ".r",
   "mimetype": "text/x-r-source",
   "name": "R",
   "pygments_lexer": "r",
   "version": "4.3.3"
  }
 },
 "nbformat": 4,
 "nbformat_minor": 5
}
